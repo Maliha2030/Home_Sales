{
  "cells": [
    {
      "cell_type": "code",
      "source": [
        "import os\n",
        "# Find the latest version of spark 3.x  from http://www.apache.org/dist/spark/ and enter as the spark version\n",
        "# For example:\n",
        "# spark_version = 'spark-3.3.2'\n",
        "spark_version = 'spark-3.3.2'\n",
        "os.environ['SPARK_VERSION']=spark_version\n",
        "\n",
        "# Install Spark and Java\n",
        "!apt-get update\n",
        "!apt-get install openjdk-11-jdk-headless -qq > /dev/null\n",
        "!wget -q http://www.apache.org/dist/spark/$SPARK_VERSION/$SPARK_VERSION-bin-hadoop3.tgz\n",
        "!tar xf $SPARK_VERSION-bin-hadoop3.tgz\n",
        "!pip install -q findspark\n",
        "\n",
        "# Set Environment Variables\n",
        "os.environ[\"JAVA_HOME\"] = \"/usr/lib/jvm/java-11-openjdk-amd64\"\n",
        "os.environ[\"SPARK_HOME\"] = f\"/content/{spark_version}-bin-hadoop3\"\n",
        "\n",
        "# Start a SparkSession\n",
        "import findspark\n",
        "findspark.init()"
      ],
      "metadata": {
        "colab": {
          "base_uri": "https://localhost:8080/"
        },
        "id": "jLXIYFwi9IXf",
        "outputId": "c2c5c4df-423f-449f-b097-f93181a467c2"
      },
      "execution_count": 3,
      "outputs": [
        {
          "output_type": "stream",
          "name": "stdout",
          "text": [
            "\r0% [Working]\r            \rGet:1 http://security.ubuntu.com/ubuntu focal-security InRelease [114 kB]\n",
            "Get:2 https://cloud.r-project.org/bin/linux/ubuntu focal-cran40/ InRelease [3,622 B]\n",
            "Get:3 https://developer.download.nvidia.com/compute/cuda/repos/ubuntu2004/x86_64  InRelease [1,581 B]\n",
            "Hit:4 http://ppa.launchpad.net/c2d4u.team/c2d4u4.0+/ubuntu focal InRelease\n",
            "Hit:5 http://archive.ubuntu.com/ubuntu focal InRelease\n",
            "Get:6 http://archive.ubuntu.com/ubuntu focal-updates InRelease [114 kB]\n",
            "Hit:7 http://ppa.launchpad.net/cran/libgit2/ubuntu focal InRelease\n",
            "Get:8 https://developer.download.nvidia.com/compute/cuda/repos/ubuntu2004/x86_64  Packages [972 kB]\n",
            "Hit:9 http://ppa.launchpad.net/deadsnakes/ppa/ubuntu focal InRelease\n",
            "Get:10 http://security.ubuntu.com/ubuntu focal-security/multiverse amd64 Packages [28.5 kB]\n",
            "Get:11 http://security.ubuntu.com/ubuntu focal-security/restricted amd64 Packages [2,060 kB]\n",
            "Get:12 http://archive.ubuntu.com/ubuntu focal-backports InRelease [108 kB]\n",
            "Hit:13 http://ppa.launchpad.net/graphics-drivers/ppa/ubuntu focal InRelease\n",
            "Hit:14 http://ppa.launchpad.net/ubuntugis/ppa/ubuntu focal InRelease\n",
            "Get:15 http://archive.ubuntu.com/ubuntu focal-updates/universe amd64 Packages [1,324 kB]\n",
            "Get:16 http://archive.ubuntu.com/ubuntu focal-updates/restricted amd64 Packages [2,198 kB]\n",
            "Get:17 http://archive.ubuntu.com/ubuntu focal-updates/multiverse amd64 Packages [31.2 kB]\n",
            "Get:18 http://archive.ubuntu.com/ubuntu focal-updates/main amd64 Packages [3,069 kB]\n",
            "Fetched 10.0 MB in 2s (4,504 kB/s)\n",
            "Reading package lists... Done\n"
          ]
        }
      ]
    },
    {
      "cell_type": "code",
      "source": [
        "# Import packages\n",
        "from pyspark.sql import SparkSession\n",
        "import time\n",
        "\n",
        "# Create a SparkSession\n",
        "spark = SparkSession.builder.appName(\"SparkSQL\").getOrCreate()"
      ],
      "metadata": {
        "id": "1WZVBTuz9RQ1"
      },
      "execution_count": 4,
      "outputs": []
    },
    {
      "cell_type": "code",
      "execution_count": 5,
      "metadata": {
        "id": "wOJqxG_RPSwp"
      },
      "outputs": [],
      "source": [
        "# 1. Read in the AWS S3 bucket into a DataFrame.\n",
        "from pyspark import SparkFiles\n",
        "url = \"https://2u-data-curriculum-team.s3.amazonaws.com/dataviz-classroom/v1.2/22-big-data/home_sales_revised.csv\""
      ]
    },
    {
      "cell_type": "code",
      "execution_count": 45,
      "metadata": {
        "id": "RoljcJ7WPpnm",
        "colab": {
          "base_uri": "https://localhost:8080/"
        },
        "outputId": "13e3e8ab-2e96-43f9-e105-7d890f2911cf"
      },
      "outputs": [
        {
          "output_type": "stream",
          "name": "stdout",
          "text": [
            "+--------------------+----------+----------+------+--------+---------+-----------+--------+------+----------+----+\n",
            "|                  id|      date|date_built| price|bedrooms|bathrooms|sqft_living|sqft_lot|floors|waterfront|view|\n",
            "+--------------------+----------+----------+------+--------+---------+-----------+--------+------+----------+----+\n",
            "|f8a53099-ba1c-47d...|2022-04-08|      2016|936923|       4|        3|       3167|   11733|     2|         1|  76|\n",
            "|7530a2d8-1ae3-451...|2021-06-13|      2013|379628|       2|        2|       2235|   14384|     1|         0|  23|\n",
            "|43de979c-0bf0-4c9...|2019-04-12|      2014|417866|       2|        2|       2127|   10575|     2|         0|   0|\n",
            "|b672c137-b88c-48b...|2019-10-16|      2016|239895|       2|        2|       1631|   11149|     2|         0|   0|\n",
            "|e0726d4d-d595-407...|2022-01-08|      2017|424418|       3|        2|       2249|   13878|     2|         0|   4|\n",
            "|5aa00529-0533-46b...|2019-01-30|      2017|218712|       2|        3|       1965|   14375|     2|         0|   7|\n",
            "|131492a1-72e2-4a8...|2020-02-08|      2017|419199|       2|        3|       2062|    8876|     2|         0|   6|\n",
            "|8d54a71b-c520-44e...|2019-07-21|      2010|323956|       2|        3|       1506|   11816|     1|         0|  25|\n",
            "|e81aacfe-17fe-46b...|2020-06-16|      2016|181925|       3|        3|       2137|   11709|     2|         0|  22|\n",
            "|2ed8d509-7372-46d...|2021-08-06|      2015|258710|       3|        3|       1918|    9666|     1|         0|  25|\n",
            "|f876d86f-3c9f-42b...|2019-02-27|      2011|167864|       3|        3|       2471|   13924|     2|         0|  15|\n",
            "|0a2bd445-8508-4d8...|2021-12-30|      2014|337527|       2|        3|       1926|   12556|     1|         0|  23|\n",
            "|941bad30-eb49-4a7...|2020-05-09|      2015|229896|       3|        3|       2197|    8641|     1|         0|   3|\n",
            "|dd61eb34-6589-4c0...|2021-07-25|      2016|210247|       3|        2|       1672|   11986|     2|         0|  28|\n",
            "|f1e4cef7-d151-439...|2019-02-01|      2011|398667|       2|        3|       2331|   11356|     1|         0|   7|\n",
            "|ea620c7b-c2f7-4c6...|2021-05-31|      2011|437958|       3|        3|       2356|   11052|     1|         0|  26|\n",
            "|f233cb41-6f33-4b0...|2021-07-18|      2016|437375|       4|        3|       1704|   11721|     2|         0|  34|\n",
            "|c797ca12-52cd-4b1...|2019-06-08|      2015|288650|       2|        3|       2100|   10419|     2|         0|   7|\n",
            "|0cfe57f3-28c2-472...|2019-10-04|      2015|308313|       3|        3|       1960|    9453|     2|         0|   2|\n",
            "|4566cd2a-ac6e-435...|2019-07-15|      2016|177541|       3|        3|       2130|   10517|     2|         0|  25|\n",
            "+--------------------+----------+----------+------+--------+---------+-----------+--------+------+----------+----+\n",
            "only showing top 20 rows\n",
            "\n"
          ]
        }
      ],
      "source": [
        "\n",
        "#Reference https://birmingham.bootcampcontent.com/university-of-birmingham/UBHM-VIRT-DATA-PT-10-2022-U-LOLC/-/blob/main/22-Big-Data/1/Activities/04-Ins_Pyspark_DataFrames_Basics/Solved/spark_dataframe_basics_solved_colab.ipynb\n",
        "spark.sparkContext.addFile(url)\n",
        "\n",
        "spark.sparkContext.addFile(url)\n",
        "df = spark.read.csv(SparkFiles.get(\"home_sales_revised.csv\"), sep=\",\", header=True)\n",
        "df.show()"
      ]
    },
    {
      "cell_type": "code",
      "source": [
        "# Create a temporary view of the DataFrame.\n",
        "df.createOrReplaceTempView('home_sales')"
      ],
      "metadata": {
        "id": "R08-Vli-HGmg"
      },
      "execution_count": 60,
      "outputs": []
    },
    {
      "cell_type": "code",
      "execution_count": 61,
      "metadata": {
        "id": "L6fkwOeOmqvq",
        "colab": {
          "base_uri": "https://localhost:8080/"
        },
        "outputId": "7d61087f-7a63-43e9-b07c-4507a27db404"
      },
      "outputs": [
        {
          "output_type": "stream",
          "name": "stdout",
          "text": [
            "+----+-------------+\n",
            "|year|average_price|\n",
            "+----+-------------+\n",
            "|2022|    296363.88|\n",
            "|2019|     300263.7|\n",
            "|2020|    298353.78|\n",
            "|2021|    301819.44|\n",
            "+----+-------------+\n",
            "\n"
          ]
        }
      ],
      "source": [
        "# 3. What is the average price for a four bedroom house sold in each year rounded to two decimal places?\n",
        "\n",
        "spark.sql(\"SELECT year(date) as year, round(avg(price), 2) as average_price FROM home_sales WHERE bedrooms =4 group by year\").show()\n"
      ]
    },
    {
      "cell_type": "code",
      "execution_count": 62,
      "metadata": {
        "id": "l8p_tUS8h8it",
        "colab": {
          "base_uri": "https://localhost:8080/"
        },
        "outputId": "f53cf474-6561-49ad-bab6-bbb3447a2445"
      },
      "outputs": [
        {
          "output_type": "stream",
          "name": "stdout",
          "text": [
            "+----------+-------------+\n",
            "|date_built|average_price|\n",
            "+----------+-------------+\n",
            "|      2016|    290555.07|\n",
            "|      2012|    293683.19|\n",
            "|      2017|    292676.79|\n",
            "|      2014|    290852.27|\n",
            "|      2013|    295962.27|\n",
            "|      2011|    291117.47|\n",
            "|      2015|     288770.3|\n",
            "|      2010|    292859.62|\n",
            "+----------+-------------+\n",
            "\n"
          ]
        }
      ],
      "source": [
        "# 4. What is the average price of a home for each year the home was built that have 3 bedrooms and 3 bathrooms rounded to two decimal places?\n",
        "spark.sql(\"SELECT date_built , round(avg(price), 2) as average_price FROM home_sales WHERE bedrooms=3 and bathrooms=3 group by date_built\").show()"
      ]
    },
    {
      "cell_type": "code",
      "execution_count": 113,
      "metadata": {
        "id": "Y-Eytz64liDU",
        "colab": {
          "base_uri": "https://localhost:8080/"
        },
        "outputId": "6e7d769e-d35c-4ee2-bda9-c55040a3b120"
      },
      "outputs": [
        {
          "output_type": "stream",
          "name": "stdout",
          "text": [
            "+----------+-------------+\n",
            "|date_built|average_price|\n",
            "+----------+-------------+\n",
            "|      2016|    315471.57|\n",
            "|      2012|    314072.77|\n",
            "|      2017|    315799.06|\n",
            "|      2014|    316395.73|\n",
            "|      2013|     317597.6|\n",
            "|      2011|    314804.32|\n",
            "|      2015|    315322.64|\n",
            "|      2010|    309751.17|\n",
            "+----------+-------------+\n",
            "\n"
          ]
        }
      ],
      "source": [
        "#  5. What is the average price of a home for each year built that have 3 bedrooms, 3 bathrooms, with two floors,\n",
        "# and are greater than or equal to 2,000 square feet rounded to two decimal places?\n",
        "\n",
        "\n",
        "spark.sql(\"SELECT date_built , round(avg(price), 2) as average_price FROM home_sales WHERE bedrooms=3 and bathrooms=3 and floors=2 and sqft_living >= 2000 or sqft_lot >= 2000 group by date_built\").show()\n",
        "\n",
        "\n"
      ]
    },
    {
      "cell_type": "code",
      "execution_count": 115,
      "metadata": {
        "id": "GUrfgOX1pCRd",
        "colab": {
          "base_uri": "https://localhost:8080/"
        },
        "outputId": "cf4dd803-bc34-4a02-c1e8-324a2da22957"
      },
      "outputs": [
        {
          "output_type": "stream",
          "name": "stdout",
          "text": [
            "+----+-------------+\n",
            "|view|average_price|\n",
            "+----+-------------+\n",
            "|   7|    403005.77|\n",
            "|  51|    788128.21|\n",
            "|  15|     404673.3|\n",
            "|  54|    798684.82|\n",
            "|  11|    399548.12|\n",
            "|  29|    397771.65|\n",
            "|  69|    750537.94|\n",
            "|  42|     396964.5|\n",
            "|  87|    1072285.2|\n",
            "|  73|    752861.18|\n",
            "|  64|    767036.67|\n",
            "|   3|     398867.6|\n",
            "|  30|     397862.0|\n",
            "|  34|    401419.75|\n",
            "|  59|     791453.0|\n",
            "|   8|    398592.71|\n",
            "|  28|    402124.62|\n",
            "|  22|    402022.68|\n",
            "|  85|   1056336.74|\n",
            "|  16|    399586.53|\n",
            "+----+-------------+\n",
            "only showing top 20 rows\n",
            "\n",
            "--- 0.5816130638122559 seconds ---\n"
          ]
        }
      ],
      "source": [
        "# 6. What is the \"view\" rating for the average price of a home, rounded to two decimal places, where the homes are greater than\n",
        "# or equal to $350,000? Although this is a small dataset, determine the run time for this query.\n",
        "\n",
        "\n",
        "start_time = time.time()\n",
        "spark.sql(\"SELECT view, round(avg(price), 2) as average_price FROM home_sales WHERE price >= 350000 group by view\").show()\n",
        "print(\"--- %s seconds ---\" % (time.time() - start_time))\n"
      ]
    },
    {
      "cell_type": "code",
      "execution_count": 116,
      "metadata": {
        "id": "KAhk3ZD2tFy8",
        "colab": {
          "base_uri": "https://localhost:8080/"
        },
        "outputId": "78d4373e-b23b-4be7-ae37-a04aadd510dc"
      },
      "outputs": [
        {
          "output_type": "execute_result",
          "data": {
            "text/plain": [
              "DataFrame[]"
            ]
          },
          "metadata": {},
          "execution_count": 116
        }
      ],
      "source": [
        "# 7. Cache the the temporary table home_sales.\n",
        "spark.sql(\"cache table home_sales\")"
      ]
    },
    {
      "cell_type": "code",
      "execution_count": 117,
      "metadata": {
        "id": "4opVhbvxtL-i",
        "colab": {
          "base_uri": "https://localhost:8080/"
        },
        "outputId": "ace64203-8574-420a-a74c-81665dc3ce1f"
      },
      "outputs": [
        {
          "output_type": "execute_result",
          "data": {
            "text/plain": [
              "True"
            ]
          },
          "metadata": {},
          "execution_count": 117
        }
      ],
      "source": [
        "# 8. Check if the table is cached.\n",
        "spark.catalog.isCached('home_sales')"
      ]
    },
    {
      "cell_type": "code",
      "execution_count": 118,
      "metadata": {
        "id": "5GnL46lwTSEk",
        "colab": {
          "base_uri": "https://localhost:8080/"
        },
        "outputId": "db77b043-2422-4d7c-8e25-d1cba3ac16f9"
      },
      "outputs": [
        {
          "output_type": "stream",
          "name": "stdout",
          "text": [
            "+----+-------------+\n",
            "|view|average_price|\n",
            "+----+-------------+\n",
            "|   7|    403005.77|\n",
            "|  51|    788128.21|\n",
            "|  15|     404673.3|\n",
            "|  54|    798684.82|\n",
            "|  11|    399548.12|\n",
            "|  29|    397771.65|\n",
            "|  69|    750537.94|\n",
            "|  42|     396964.5|\n",
            "|  87|    1072285.2|\n",
            "|  73|    752861.18|\n",
            "|  64|    767036.67|\n",
            "|   3|     398867.6|\n",
            "|  30|     397862.0|\n",
            "|  34|    401419.75|\n",
            "|  59|     791453.0|\n",
            "|   8|    398592.71|\n",
            "|  28|    402124.62|\n",
            "|  22|    402022.68|\n",
            "|  85|   1056336.74|\n",
            "|  16|    399586.53|\n",
            "+----+-------------+\n",
            "only showing top 20 rows\n",
            "\n",
            "--- 0.6990318298339844 seconds ---\n"
          ]
        }
      ],
      "source": [
        "# 9. Using the cached data, run the query that filters out the view ratings with average price \n",
        "#  greater than or equal to $350,000. Determine the runtime and compare it to uncached runtime.\n",
        "\n",
        "start_time = time.time()\n",
        "spark.sql(\"SELECT view, round(avg(price), 2) as average_price FROM home_sales WHERE price >= 350000 group by view\").show()\n",
        "print(\"--- %s seconds ---\" % (time.time() - start_time))\n"
      ]
    },
    {
      "cell_type": "code",
      "execution_count": 83,
      "metadata": {
        "id": "Qm12WN9isHBR"
      },
      "outputs": [],
      "source": [
        "# 10. Partition by the \"date_built\" field on the formatted parquet home sales data \n",
        "\n",
        "\n",
        "df.write.partitionBy(\"date_built\").mode(\"overwrite\").parquet(\"partitioned\")\n"
      ]
    },
    {
      "cell_type": "code",
      "execution_count": 93,
      "metadata": {
        "id": "AZ7BgY61sRqY"
      },
      "outputs": [],
      "source": [
        "# 11. Read the formatted parquet data.\n",
        "p_df=spark.read.parquet('partitioned')\n"
      ]
    },
    {
      "cell_type": "code",
      "execution_count": 91,
      "metadata": {
        "id": "J6MJkHfvVcvh"
      },
      "outputs": [],
      "source": [
        "# 12. Create a temporary table for the parquet data.\n",
        "\n",
        "p_df.createOrReplaceTempView('partitioned')\n",
        "\n"
      ]
    },
    {
      "cell_type": "code",
      "execution_count": 119,
      "metadata": {
        "id": "G_Vhb52rU1Sn",
        "colab": {
          "base_uri": "https://localhost:8080/"
        },
        "outputId": "7cf884ba-07a1-4292-93ea-ed26e44699b9"
      },
      "outputs": [
        {
          "output_type": "stream",
          "name": "stdout",
          "text": [
            "+----+-------------+\n",
            "|view|average_price|\n",
            "+----+-------------+\n",
            "|   7|    403005.77|\n",
            "|  51|    788128.21|\n",
            "|  15|     404673.3|\n",
            "|  54|    798684.82|\n",
            "|  11|    399548.12|\n",
            "|  29|    397771.65|\n",
            "|  69|    750537.94|\n",
            "|  42|     396964.5|\n",
            "|  73|    752861.18|\n",
            "|  87|    1072285.2|\n",
            "|  64|    767036.67|\n",
            "|   3|     398867.6|\n",
            "|  30|     397862.0|\n",
            "|  34|    401419.75|\n",
            "|  59|     791453.0|\n",
            "|   8|    398592.71|\n",
            "|  28|    402124.62|\n",
            "|  22|    402022.68|\n",
            "|  85|   1056336.74|\n",
            "|  35|    401934.21|\n",
            "+----+-------------+\n",
            "only showing top 20 rows\n",
            "\n",
            "--- 0.630528450012207 seconds ---\n"
          ]
        }
      ],
      "source": [
        "# 13. Run the query that filters out the view ratings with average price of greater than or eqaul to $350,000 \n",
        "# with the parquet DataFrame. Round your average to two decimal places. \n",
        "# Determine the runtime and compare it to the cached version. \n",
        "\n",
        "start_time = time.time()\n",
        "\n",
        "spark.sql(\"SELECT view, round(avg(price), 2) as average_price FROM partitioned WHERE price >= 350000 group by view\").show()\n",
        "\n",
        "print(\"--- %s seconds ---\" % (time.time() - start_time))"
      ]
    },
    {
      "cell_type": "code",
      "execution_count": 120,
      "metadata": {
        "id": "hjjYzQGjtbq8",
        "colab": {
          "base_uri": "https://localhost:8080/"
        },
        "outputId": "8f3f0d21-048d-4b63-a584-074f5d5af17c"
      },
      "outputs": [
        {
          "output_type": "execute_result",
          "data": {
            "text/plain": [
              "DataFrame[]"
            ]
          },
          "metadata": {},
          "execution_count": 120
        }
      ],
      "source": [
        "# 14. Uncache the home_sales temporary table.\n",
        "spark.sql(\"uncache table home_sales\")"
      ]
    },
    {
      "cell_type": "code",
      "execution_count": 121,
      "metadata": {
        "id": "Sy9NBvO7tlmm",
        "colab": {
          "base_uri": "https://localhost:8080/"
        },
        "outputId": "229b570c-9168-4349-f39c-21eecf705192"
      },
      "outputs": [
        {
          "output_type": "stream",
          "name": "stdout",
          "text": [
            "all clear\n"
          ]
        }
      ],
      "source": [
        "# 15. Check if the home_sales is no longer cached\n",
        "\n",
        "if spark.catalog.isCached(\"home_sales\"):\n",
        "  print(\"table is still cached\")\n",
        "else:\n",
        "  print(\"all clear\")"
      ]
    }
  ],
  "metadata": {
    "colab": {
      "provenance": []
    },
    "kernelspec": {
      "display_name": "Python 3 (ipykernel)",
      "language": "python",
      "name": "python3"
    },
    "language_info": {
      "codemirror_mode": {
        "name": "ipython",
        "version": 3
      },
      "file_extension": ".py",
      "mimetype": "text/x-python",
      "name": "python",
      "nbconvert_exporter": "python",
      "pygments_lexer": "ipython3",
      "version": "3.9.12"
    },
    "nteract": {
      "version": "0.28.0"
    }
  },
  "nbformat": 4,
  "nbformat_minor": 0
}